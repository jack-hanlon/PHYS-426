{
 "cells": [
  {
   "cell_type": "code",
   "execution_count": 1,
   "metadata": {},
   "outputs": [],
   "source": [
    "import numpy as np\n",
    "import matplotlib.pyplot as plt\n",
    "import scipy.linalg as sci"
   ]
  },
  {
   "cell_type": "code",
   "execution_count": 10,
   "metadata": {},
   "outputs": [
    {
     "name": "stdout",
     "output_type": "stream",
     "text": [
      "0.0\n"
     ]
    },
    {
     "data": {
      "image/png": "[encoded data removed]",
      "text/plain": [
       "<Figure size 432x288 with 1 Axes>"
      ]
     },
     "metadata": {
      "needs_background": "light"
     },
     "output_type": "display_data"
    }
   ],
   "source": [
    "#Define variables \n",
    "N = 100\n",
    "k = np.linspace(0,6,N)*1e-4\n",
    "\n",
    "\n",
    "#Background velocity profile\n",
    "\n",
    "y = np.linspace(-10,10,N)*1e3\n",
    "U = 0.15*(1.+np.tanh(-y/2.e3))\n",
    "plt.xlabel(\"U (m/s)\")\n",
    "plt.ylabel(\"y (m)\")\n",
    "plt.title(\"Background velocity profile for stability analysis\")\n",
    "plt.plot(U,y)"
   ]
  },
  {
   "cell_type": "code",
   "execution_count": 3,
   "metadata": {},
   "outputs": [],
   "source": [
    "A = np.zeros([N,N])\n",
    "B = np.zeros([N,N])"
   ]
  },
  {
   "cell_type": "code",
   "execution_count": 4,
   "metadata": {},
   "outputs": [],
   "source": [
    "def initialize_wavenumber_matrix(k,U,A,B,y):\n",
    "    '''\n",
    "    Enter the wavenumber and fct will output corresponding matrices A and B\n",
    "    '''\n",
    "    \n",
    "    A[0][0] = -1.*(U[1] - U[0])/(y[1]-y[0])**2 + U[0]*(-2./((y[1]-y[0])**2) - k**2)\n",
    "    print(A[0][0])\n",
    "    A[0][1] = U[0] / (y[1]-y[0])**2\n",
    "    A[N-1][N-1] = -1.*(U[1] - U[0])/(y[1]-y[0])**2 + U[0]*(-2./((y[1]-y[0])**2) - k**2)\n",
    "    A[N-1][N-2] = U[0] / (y[1]-y[0])**2 # U_1 and U_0 may need to be switched for vals at end of U instead (not sure if uniform)\n",
    "    \n",
    "    B[0][0] = -2./((y[1]-y[0])**2) - k**2\n",
    "    B[0][1] = 1. / (y[1]-y[0])**2\n",
    "    B[N-1][N-1] = -2./((y[1]-y[0])**2) - k**2\n",
    "    B[N-1][N-2] = 1. / (y[1]-y[0])**2\n",
    "    \n",
    "    for i in range(1,99):\n",
    "        A[i][i-1] = U[i] / (y[1]-y[0])**2\n",
    "        A[i][i] = U[i]*((-2/(y[1]-y[0])**2) - k**2) - (U[i+1] + U[i-1] -2*U[i])/(y[1]-y[0])**2 #need to change k for all inputs of k probably add a function here\n",
    "        A[i][i+1] = U[i] / (y[1]-y[0])**2\n",
    "        B[i][i-1] = 1 / (y[1]-y[0])**2\n",
    "        B[i][i] = (-2/(y[1]-y[0])**2) - k**2\n",
    "        B[i][i+1] = 1 / (y[1]-y[0])**2\n",
    "    return A,B"
   ]
  },
  {
   "cell_type": "code",
   "execution_count": 11,
   "metadata": {},
   "outputs": [
    {
     "name": "stdout",
     "output_type": "stream",
     "text": [
      "-1.4701859757525727e-05\n"
     ]
    }
   ],
   "source": [
    "A,B = initialize_wavenumber_matrix(k[10],U,A,B,y)\n"
   ]
  },
  {
   "cell_type": "code",
   "execution_count": 12,
   "metadata": {},
   "outputs": [
    {
     "ename": "LinAlgError",
     "evalue": "The leading minor of order 1 of B is not positive definite. The factorization of B could not be completed and no eigenvalues or eigenvectors were computed.",
     "output_type": "error",
     "traceback": [
      "\u001b[1;31m------------------------------------------------------------------------\u001b[0m",
      "\u001b[1;31mLinAlgError\u001b[0m                            Traceback (most recent call last)",
      "\u001b[1;32m<ipython-input-12-aed2fa7543f2>\u001b[0m in \u001b[0;36m<module>\u001b[1;34m\u001b[0m\n\u001b[1;32m----> 1\u001b[1;33m \u001b[0msci\u001b[0m\u001b[1;33m.\u001b[0m\u001b[0meigh\u001b[0m\u001b[1;33m(\u001b[0m\u001b[0mA\u001b[0m\u001b[1;33m,\u001b[0m\u001b[0mB\u001b[0m\u001b[1;33m)\u001b[0m\u001b[1;33m\u001b[0m\u001b[1;33m\u001b[0m\u001b[0m\n\u001b[0m",
      "\u001b[1;32m~\\anaconda3\\lib\\site-packages\\scipy\\linalg\\decomp.py\u001b[0m in \u001b[0;36meigh\u001b[1;34m(a, b, lower, eigvals_only, overwrite_a, overwrite_b, turbo, eigvals, type, check_finite, subset_by_index, subset_by_value, driver)\u001b[0m\n\u001b[0;32m    576\u001b[0m                               ''.format(-info, drv.typecode + pfx + driver))\n\u001b[0;32m    577\u001b[0m         \u001b[1;32melif\u001b[0m \u001b[0minfo\u001b[0m \u001b[1;33m>\u001b[0m \u001b[0mn\u001b[0m\u001b[1;33m:\u001b[0m\u001b[1;33m\u001b[0m\u001b[1;33m\u001b[0m\u001b[0m\n\u001b[1;32m--> 578\u001b[1;33m             raise LinAlgError('The leading minor of order {} of B is not '\n\u001b[0m\u001b[0;32m    579\u001b[0m                               \u001b[1;34m'positive definite. The factorization of B '\u001b[0m\u001b[1;33m\u001b[0m\u001b[1;33m\u001b[0m\u001b[0m\n\u001b[0;32m    580\u001b[0m                               \u001b[1;34m'could not be completed and no eigenvalues '\u001b[0m\u001b[1;33m\u001b[0m\u001b[1;33m\u001b[0m\u001b[0m\n",
      "\u001b[1;31mLinAlgError\u001b[0m: The leading minor of order 1 of B is not positive definite. The factorization of B could not be completed and no eigenvalues or eigenvectors were computed."
     ]
    }
   ],
   "source": [
    "sci.eigh(A,B)"
   ]
  },
  {
   "cell_type": "code",
   "execution_count": null,
   "metadata": {},
   "outputs": [],
   "source": []
  }
 ],
 "metadata": {
  "kernelspec": {
   "display_name": "Python 3",
   "language": "python",
   "name": "python3"
  },
  "language_info": {
   "codemirror_mode": {
    "name": "ipython",
    "version": 3
   },
   "file_extension": ".py",
   "mimetype": "text/x-python",
   "name": "python",
   "nbconvert_exporter": "python",
   "pygments_lexer": "ipython3",
   "version": "3.8.5"
  }
 },
 "nbformat": 4,
 "nbformat_minor": 4
}
