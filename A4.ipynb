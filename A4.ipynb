{
 "cells": [
  {
   "cell_type": "code",
   "execution_count": 2,
   "metadata": {},
   "outputs": [],
   "source": [
    "import numpy as np\n",
    "import matplotlib.pyplot as plt"
   ]
  },
  {
   "cell_type": "code",
   "execution_count": 54,
   "metadata": {},
   "outputs": [
    {
     "name": "stdout",
     "output_type": "stream",
     "text": [
      "[16.59]\n",
      "9.998999999999898 (m) this is hm should be approx 10 metres\n",
      "6.6516606928998945 um displacement\n",
      "4.510151883126353 (m) dm height of transcritical water flow\n",
      "0.9999999999999996 Check Fm**2 is approx = 1\n"
     ]
    },
    {
     "data": {
      "text/plain": [
       "<matplotlib.legend.Legend at 0x20850aa7640>"
      ]
     },
     "execution_count": 54,
     "metadata": {},
     "output_type": "execute_result"
    },
    {
     "data": {
      "image/png": "[encoded data removed]",
      "text/plain": [
       "<Figure size 432x288 with 1 Axes>"
      ]
     },
     "metadata": {
      "needs_background": "light"
     },
     "output_type": "display_data"
    }
   ],
   "source": [
    "#Define Variables\n",
    "step = 0.1 #step size in metres\n",
    "d0 = 16.59 # height of channel far from obstacle (m)\n",
    "q = 30.0 # flow rate in (m**2/s)\n",
    "g = 9.81 # gravity (m/s)\n",
    "d = []\n",
    "h = []\n",
    "F_2 = [] # F**2 \n",
    "F_2.append(q**2 / (g*d0**3)) # F_naught**2\n",
    "h.append(0) # initial slope height same as channel depth\n",
    "d.append(d0) # initial channel depth\n",
    "num_steps = int(1000/step)\n",
    "x = np.linspace(-1000,0,num_steps)\n",
    "print(d)\n",
    "for i in range(1,len(x)):\n",
    "    d.append(d[i-1] + (1/(F_2[i-1]-1))*0.01*step )\n",
    "    F_2.append(q**2/(g*d[i]**3))\n",
    "    h.append(0.01*step + h[i-1])\n",
    "\n",
    "d = np.array(d)\n",
    "h = np.array(h)\n",
    "F_2 = np.array(F_2)\n",
    "\n",
    "\n",
    "u = np.sqrt(F_2*g*d)\n",
    "\n",
    "hm = h[-1]\n",
    "print(hm,\"(m) this is hm should be approx 10 metres\")\n",
    "um = (g*q)**(1/3)\n",
    "print(um,\"um displacement\")\n",
    "dm = q/um\n",
    "print(dm,\"(m) dm height of transcritical water flow\")\n",
    "#Check Fm**2 = 1\n",
    "F_m2 = um**2 / (g*dm)\n",
    "print(F_m2,\"Check Fm**2 is approx = 1\")\n",
    "plt.xlabel(\"Distance from Peak of Obstacle\")\n",
    "plt.ylabel(\"Height (m)\")\n",
    "plt.title(\"Plot of Fluid steady flow over triangular obstacle in channel \")\n",
    "plt.plot(x[:-10],F_2[:-10],label=\"F**2\",color=\"green\")\n",
    "plt.plot(x[:-10],h[:-10],label=\"h\",color=\"red\")\n",
    "plt.plot(x[:-10],d[:-10]+h[:-10],label=\"d+h\")\n",
    "plt.plot()\n",
    "plt.legend()\n"
   ]
  },
  {
   "cell_type": "code",
   "execution_count": 13,
   "metadata": {},
   "outputs": [
    {
     "data": {
      "text/plain": [
       "array([16.59      , 16.5889795 , 16.58795899, ...,  5.62815084,\n",
       "        5.62609065,  5.62402806])"
      ]
     },
     "execution_count": 13,
     "metadata": {},
     "output_type": "execute_result"
    }
   ],
   "source": []
  },
  {
   "cell_type": "code",
   "execution_count": null,
   "metadata": {},
   "outputs": [],
   "source": []
  }
 ],
 "metadata": {
  "kernelspec": {
   "display_name": "Python 3",
   "language": "python",
   "name": "python3"
  },
  "language_info": {
   "codemirror_mode": {
    "name": "ipython",
    "version": 3
   },
   "file_extension": ".py",
   "mimetype": "text/x-python",
   "name": "python",
   "nbconvert_exporter": "python",
   "pygments_lexer": "ipython3",
   "version": "3.8.5"
  }
 },
 "nbformat": 4,
 "nbformat_minor": 4
}
