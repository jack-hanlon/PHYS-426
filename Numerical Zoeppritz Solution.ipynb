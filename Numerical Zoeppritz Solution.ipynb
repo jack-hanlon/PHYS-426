{
 "cells": [
  {
   "cell_type": "code",
   "execution_count": 1,
   "metadata": {},
   "outputs": [],
   "source": [
    "import numpy as np\n",
    "import matplotlib.pyplot as plt\n",
    "import cmath\n",
    "import scipy\n",
    "\n",
    "from scipy import linalg\n"
   ]
  },
  {
   "cell_type": "code",
   "execution_count": 2,
   "metadata": {},
   "outputs": [
    {
     "name": "stdout",
     "output_type": "stream",
     "text": [
      "Energy Flux of Reflected and Transmitted S and P waves as a function of Incident Angle\n"
     ]
    },
    {
     "name": "stderr",
     "output_type": "stream",
     "text": [
      "C:\\Users\\jackl\\anaconda3\\lib\\site-packages\\numpy\\core\\_asarray.py:83: ComplexWarning: Casting complex values to real discards the imaginary part\n",
      "  return array(a, dtype, copy=False, order=order)\n",
      "C:\\Users\\jackl\\anaconda3\\lib\\site-packages\\numpy\\core\\_asarray.py:83: ComplexWarning: Casting complex values to real discards the imaginary part\n",
      "  return array(a, dtype, copy=False, order=order)\n",
      "C:\\Users\\jackl\\anaconda3\\lib\\site-packages\\numpy\\core\\_asarray.py:83: ComplexWarning: Casting complex values to real discards the imaginary part\n",
      "  return array(a, dtype, copy=False, order=order)\n",
      "C:\\Users\\jackl\\anaconda3\\lib\\site-packages\\numpy\\core\\_asarray.py:83: ComplexWarning: Casting complex values to real discards the imaginary part\n",
      "  return array(a, dtype, copy=False, order=order)\n"
     ]
    },
    {
     "data": {
      "text/plain": [
       "[<matplotlib.lines.Line2D at 0x1ef551b6d90>]"
      ]
     },
     "execution_count": 2,
     "metadata": {},
     "output_type": "execute_result"
    },
    {
     "data": {
      "image/png": "[encoded data removed]",
      "text/plain": [
       "<Figure size 720x576 with 4 Axes>"
      ]
     },
     "metadata": {
      "needs_background": "light"
     },
     "output_type": "display_data"
    }
   ],
   "source": [
    "#DEFINE VARIABLES\n",
    "A_0 = 1 #Incident Amplitude\n",
    "alpha_1 = 2000 #m/s (P-wave velocity in medium 1)\n",
    "beta_1 = 1070 #m/s (S-wave velocity in medium 1)\n",
    "rho_1 = 2000 #kg/m**3 (density of medium 1)\n",
    "\n",
    "alpha_2 = 4000 #m/s (P-wave velocity in medium 2)\n",
    "beta_2 = 2310 #m/s (S-wave velocity in medium 2)\n",
    "rho_2 = 2500 #kg/m**3 (density of medium 2)\n",
    "\n",
    "#DEFINE EQUATIONS\n",
    "#equations derived from snell's law\n",
    "theta_1 = np.linspace(0.0001,1.5708,100000) #let theta_1 = 90 for testing\n",
    "theta_1_degrees = np.linspace(0,90,100000)\n",
    "A_1 = []\n",
    "B_1 = []\n",
    "A_2 = []\n",
    "B_2 = []\n",
    "\n",
    "E_rs = []\n",
    "E_tp = []\n",
    "E_ts = []\n",
    "\n",
    "#DEFINE THE NORMALIZED MATRIX\n",
    "\n",
    "for i in range(0,len(theta_1)):\n",
    "    theta_2 = cmath.asin((alpha_2/alpha_1)*cmath.sin(theta_1[i]))\n",
    "    delta_1 = cmath.asin((beta_1/alpha_1)*cmath.sin(theta_1[i]))\n",
    "    delta_2 = cmath.asin((beta_2/alpha_1)*cmath.sin(theta_1[i]))\n",
    "\n",
    "    row_1 = [cmath.cos(theta_1[i]),-1*cmath.sin(delta_1),cmath.cos(theta_2),cmath.sin(delta_2)]\n",
    "    row_2 = [-1*cmath.sin(theta_1[i]),-1*cmath.cos(delta_1),cmath.sin(theta_2),-1*cmath.cos(delta_2)]\n",
    "    row_3 = [-1*rho_1*alpha_1*cmath.cos(2*delta_1),beta_1*rho_1*cmath.sin(2*delta_1),rho_2*alpha_2*cmath.cos(2*delta_2),rho_2*beta_2*cmath.sin(2*delta_1)]\n",
    "    row_4 = [beta_1*beta_1*alpha_2*rho_1*cmath.sin(2*theta_1[i]),rho_1*alpha_1*alpha_2*beta_1*cmath.cos(2*delta_1),beta_2*beta_2*rho_2*alpha_1*cmath.sin(2*theta_2),-1*rho_2*beta_2*alpha_1*alpha_2*cmath.cos(2*delta_2)]\n",
    "\n",
    "    matrix = np.array([row_1,row_2,row_3,row_4]) #normalized zoeppritz matrix\n",
    "    b = [cmath.cos(theta_1[i]),cmath.sin(theta_1[i]),rho_1*alpha_1*cmath.cos(2*delta_1),beta_1*beta_1*alpha_2*rho_1*cmath.sin(2*theta_1[i])] #  b vector in A*x = b\n",
    "    x = scipy.linalg.solve(matrix,b)\n",
    "    A_1.append(x[0])\n",
    "    B_1.append(x[1])\n",
    "    A_2.append(x[2])\n",
    "    B_2.append(x[3])\n",
    "    A_1[i] = A_1[i]*np.conjugate(A_1[i])\n",
    "    B_1[i] = B_1[i]*np.conjugate(B_1[i])\n",
    "    A_2[i] = A_2[i]*np.conjugate(A_2[i])\n",
    "    B_2[i] = B_2[i]*np.conjugate(B_2[i])\n",
    "    E_rs.append((beta_1*cmath.cos(delta_1)*B_1[i])/(alpha_1*cmath.cos(theta_1[i])))\n",
    "    E_tp.append((rho_2*alpha_2*cmath.cos(theta_2)*A_2[i])/(rho_1*alpha_1*cmath.cos(theta_1[i])))\n",
    "    E_ts.append((rho_2*beta_2*cmath.cos(delta_2)*B_2[i])/(rho_1*alpha_1*cmath.cos(theta_1[i])))\n",
    "\n",
    "E_rp = A_1\n",
    "\n",
    "\n",
    "fig,(ax1,ax2,ax3,ax4) = plt.subplots(4,1,figsize=(10, 8),sharey=True)\n",
    "print(\"Energy Flux of Reflected and Transmitted S and P waves as a function of Incident Angle\")\n",
    "\n",
    "ax1.set_xlabel('Incident Angle (Degrees)')\n",
    "ax2.set_xlabel('Incident Angle (Degrees)')\n",
    "ax3.set_xlabel('Incident Angle (Degrees)')\n",
    "ax4.set_xlabel('Incident Angle (Degrees)')\n",
    "\n",
    "ax1.set_ylabel('E_rp')\n",
    "ax2.set_ylabel('E_tp')\n",
    "ax3.set_ylabel('E_rs')\n",
    "ax4.set_ylabel('E_ts')\n",
    "\n",
    "ax1.plot(theta_1_degrees,E_rp)\n",
    "ax2.plot(theta_1_degrees,E_tp,color=\"g\")\n",
    "ax3.plot(theta_1_degrees,E_rs,color=\"r\")\n",
    "ax4.plot(theta_1_degrees,E_ts,color=\"orange\")\n"
   ]
  },
  {
   "cell_type": "code",
   "execution_count": null,
   "metadata": {},
   "outputs": [],
   "source": []
  },
  {
   "cell_type": "code",
   "execution_count": null,
   "metadata": {},
   "outputs": [],
   "source": []
  }
 ],
 "metadata": {
  "kernelspec": {
   "display_name": "Python 3",
   "language": "python",
   "name": "python3"
  },
  "language_info": {
   "codemirror_mode": {
    "name": "ipython",
    "version": 3
   },
   "file_extension": ".py",
   "mimetype": "text/x-python",
   "name": "python",
   "nbconvert_exporter": "python",
   "pygments_lexer": "ipython3",
   "version": "3.8.5"
  }
 },
 "nbformat": 4,
 "nbformat_minor": 4
}
